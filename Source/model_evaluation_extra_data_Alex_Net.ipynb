{
 "cells": [
  {
   "cell_type": "markdown",
   "metadata": {},
   "source": [
    "# Evaluation of model with photos from other source"
   ]
  },
  {
   "cell_type": "code",
   "execution_count": 1,
   "metadata": {},
   "outputs": [
    {
     "name": "stderr",
     "output_type": "stream",
     "text": [
      "Using TensorFlow backend.\n"
     ]
    },
    {
     "name": "stdout",
     "output_type": "stream",
     "text": [
      "WARNING:tensorflow:From C:\\Anaconda3\\envs\\python3.6\\lib\\site-packages\\tensorflow\\python\\framework\\op_def_library.py:263: colocate_with (from tensorflow.python.framework.ops) is deprecated and will be removed in a future version.\n",
      "Instructions for updating:\n",
      "Colocations handled automatically by placer.\n",
      "WARNING:tensorflow:From C:\\Anaconda3\\envs\\python3.6\\lib\\site-packages\\keras\\backend\\tensorflow_backend.py:3445: calling dropout (from tensorflow.python.ops.nn_ops) with keep_prob is deprecated and will be removed in a future version.\n",
      "Instructions for updating:\n",
      "Please use `rate` instead of `keep_prob`. Rate should be set to `rate = 1 - keep_prob`.\n"
     ]
    }
   ],
   "source": [
    "from keras.models import load_model\n",
    "from keras.preprocessing import image\n",
    "import matplotlib.pyplot as plt\n",
    "import numpy as np\n",
    "import pandas as pd\n",
    "\n",
    "# AlexNet Model Result\n",
    "emotion_model_path = 'models/model_AlexNet_Full_Train.hdf5'\n",
    "# Mini Exceptiong Model Result\n",
    "# emotion_model_path = 'models/_mini_XCEPTIONweights.best.hdf5'\n",
    "emotion_classifier = load_model(emotion_model_path, compile=False)\n",
    "dataset_path = 'data/folder1_listing_v2.csv'\n",
    "data = pd.read_csv(dataset_path)\n",
    "data = data[data['expression'] <= 6]"
   ]
  },
  {
   "cell_type": "code",
   "execution_count": 2,
   "metadata": {},
   "outputs": [],
   "source": [
    "y_test = []\n",
    "#angry, disgust, fear, happy, sad, surprise, neutral\n",
    "for i in list(data['expression']):\n",
    "    if i == 0:\n",
    "        y_test.append([0,0,0,0,0,0,1]);\n",
    "    elif i == 1:\n",
    "        y_test.append([0,0,0,1,0,0,0]);\n",
    "    elif i == 2:\n",
    "        y_test.append([0,0,0,0,1,0,0]);    \n",
    "    elif i == 3:\n",
    "        y_test.append([0,0,0,0,0,1,0]);\n",
    "    elif i == 4:\n",
    "        y_test.append([0,0,1,0,0,0,0]);\n",
    "    elif i == 5:\n",
    "        y_test.append([0,1,0,0,0,0,0]);\n",
    "    else:\n",
    "        y_test.append([1,0,0,0,0,0,0]);\n",
    "    "
   ]
  },
  {
   "cell_type": "code",
   "execution_count": 3,
   "metadata": {},
   "outputs": [
    {
     "name": "stderr",
     "output_type": "stream",
     "text": [
      "C:\\Anaconda3\\envs\\python3.6\\lib\\site-packages\\keras_preprocessing\\image\\utils.py:98: UserWarning: grayscale is deprecated. Please use color_mode = \"grayscale\"\n",
      "  warnings.warn('grayscale is deprecated. Please use '\n"
     ]
    }
   ],
   "source": [
    "filePaths = np.array(data['subDirectory_filePath'])\n",
    "y_pred_prob = []\n",
    "for filePath in filePaths:\n",
    "    img = image.load_img('data/predict/' + filePath, grayscale=True, target_size=(48, 48))\n",
    "    x = image.img_to_array(img)\n",
    "    x = np.expand_dims(x, axis = 0)\n",
    "    x /= 255\n",
    "    y_result = emotion_classifier.predict(x)\n",
    "    y_pred_prob.append(y_result)\n",
    "y_pred = []\n",
    "for i in range(len(y_pred_prob)):\n",
    "    y_result = [0] * 7\n",
    "    y_result[np.argmax(y_pred_prob[i])] = 1\n",
    "    y_pred.append(y_result)"
   ]
  },
  {
   "cell_type": "code",
   "execution_count": 4,
   "metadata": {},
   "outputs": [
    {
     "name": "stdout",
     "output_type": "stream",
     "text": [
      "Accuracy of model is:  0.6902654867256637 \n",
      " The precision, recall, F-score and support are: \n",
      " angry, disgust, fear, happy, sad, surprise, neutral \n",
      " [0.14705882 0.         0.2        0.94153846 0.22857143 0.66666667\n",
      " 0.48837209] \n",
      " [0.52631579 0.         0.2        0.83606557 0.57142857 0.16666667\n",
      " 0.63636364] \n",
      " [0.22988506 0.         0.2        0.88567294 0.32653061 0.26666667\n",
      " 0.55263158] \n",
      " [ 19  50   5 366  14  12  99]\n"
     ]
    },
    {
     "name": "stderr",
     "output_type": "stream",
     "text": [
      "C:\\Anaconda3\\envs\\python3.6\\lib\\site-packages\\sklearn\\metrics\\classification.py:1143: UndefinedMetricWarning: Precision and F-score are ill-defined and being set to 0.0 in labels with no predicted samples.\n",
      "  'precision', 'predicted', average, warn_for)\n"
     ]
    }
   ],
   "source": [
    "from sklearn.metrics import precision_recall_fscore_support, accuracy_score\n",
    "y_test = np.array(y_test)\n",
    "y_pred = np.array(y_pred)\n",
    "evaluation_result = precision_recall_fscore_support(y_test, y_pred)\n",
    "accuracy = accuracy_score(y_test, y_pred)\n",
    "print('Accuracy of model is: ', \n",
    "          accuracy, '\\n',\n",
    "          'The precision, recall, F-score and support are:', '\\n',\n",
    "          'angry, disgust, fear, happy, sad, surprise, neutral', '\\n',\n",
    "          evaluation_result[0], '\\n',\n",
    "          evaluation_result[1], '\\n',\n",
    "          evaluation_result[2], '\\n',\n",
    "          evaluation_result[3]\n",
    "         )"
   ]
  },
  {
   "cell_type": "code",
   "execution_count": 5,
   "metadata": {},
   "outputs": [
    {
     "name": "stdout",
     "output_type": "stream",
     "text": [
      "[[ 10   0   0   2   5   0   2]\n",
      " [ 23   0   0   8   7   0  12]\n",
      " [  3   0   1   0   0   0   1]\n",
      " [ 10   0   2 306   6   0  42]\n",
      " [  3   0   0   0   8   0   3]\n",
      " [  0   0   1   1   2   2   6]\n",
      " [ 19   0   1   8   7   1  63]]\n"
     ]
    },
    {
     "data": {
      "image/png": "[encoded data removed]",
      "text/plain": [
       "<Figure size 576x432 with 2 Axes>"
      ]
     },
     "metadata": {
      "needs_background": "light"
     },
     "output_type": "display_data"
    }
   ],
   "source": [
    "import numpy as np\n",
    "import matplotlib.pyplot as plt\n",
    "from sklearn.metrics import confusion_matrix\n",
    "from sklearn.preprocessing import normalize\n",
    "\n",
    "# Compute confusion matrix\n",
    "cm = confusion_matrix(np.argmax(y_test, axis=1), np.argmax(y_pred, axis=1))\n",
    "\n",
    "print(cm)\n",
    "\n",
    "cm = normalize(cm, norm='l2', axis=1)\n",
    "\n",
    "fig, ax = plt.subplots(figsize=(8, 6))\n",
    "im = ax.imshow(cm, interpolation='nearest', cmap=plt.cm.Blues)\n",
    "ax.figure.colorbar(im, ax=ax)\n",
    "# We want to show all ticks...\n",
    "ax.set(xticks=np.arange(cm.shape[1]),\n",
    "       yticks=np.arange(cm.shape[0]),\n",
    "       # ... and label them with the respective list entries\n",
    "       xticklabels=['angry', 'disgust', 'fear', 'happy', 'sad', 'surprise', 'neutral'], yticklabels=['angry', 'disgust', 'fear', 'happy', 'sad', 'surprise', 'neutral'],\n",
    "       title='Confusion Matrix',\n",
    "       ylabel='True label',\n",
    "       xlabel='Predicted label')\n",
    "\n",
    "# Rotate the tick labels and set their alignment.\n",
    "plt.setp(ax.get_xticklabels(), rotation=45, ha=\"right\",\n",
    "         rotation_mode=\"anchor\")\n",
    "\n",
    "fmt = '.2'\n",
    "thresh = cm.max() / 2.\n",
    "for i in range(cm.shape[0]):\n",
    "    for j in range(cm.shape[1]):\n",
    "        ax.text(j, i, format(cm[i, j], fmt),\n",
    "                ha=\"center\", va=\"center\",\n",
    "                color=\"white\" if cm[i, j] > thresh else \"black\")\n",
    "fig.tight_layout()\n",
    "\n",
    "plt.show()"
   ]
  }
 ],
 "metadata": {
  "kernelspec": {
   "display_name": "Python 3",
   "language": "python",
   "name": "python3"
  },
  "language_info": {
   "codemirror_mode": {
    "name": "ipython",
    "version": 3
   },
   "file_extension": ".py",
   "mimetype": "text/x-python",
   "name": "python",
   "nbconvert_exporter": "python",
   "pygments_lexer": "ipython3",
   "version": "3.6.8"
  }
 },
 "nbformat": 4,
 "nbformat_minor": 2
}
