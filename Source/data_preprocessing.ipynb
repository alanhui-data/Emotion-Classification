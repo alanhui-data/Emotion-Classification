{
 "cells": [
  {
   "cell_type": "code",
   "execution_count": 1,
   "metadata": {},
   "outputs": [],
   "source": [
    "import pandas as pd\n",
    "import cv2\n",
    "import numpy as np\n",
    "from matplotlib import pyplot as plt\n",
    "\n",
    "affectnet_path = 'C:/Users/Lun/Documents/Study/MSBD/CSIT6000G - Machine Learning/9) Project/AffectNet/automatically_annotated.csv'\n",
    "affectnet_path_2 = 'C:/Users/Lun/Documents/Study/MSBD/CSIT6000G - Machine Learning/9) Project/AffectNet/training.csv'\n",
    "\n",
    "# AffectNet Internet image\n",
    "affectnet_auto_data = pd.read_csv(affectnet_path)\n",
    "# AffectNet Manual Annotated image\n",
    "affectnet_manual_data = pd.read_csv(affectnet_path_2)"
   ]
  },
  {
   "cell_type": "code",
   "execution_count": 2,
   "metadata": {},
   "outputs": [
    {
     "data": {
      "text/plain": [
       "0     143142\n",
       "1     246235\n",
       "2      20854\n",
       "3      17462\n",
       "4       3799\n",
       "5        890\n",
       "6      28000\n",
       "7          2\n",
       "8       7259\n",
       "9       1447\n",
       "10     70517\n",
       "Name: expression, dtype: int64"
      ]
     },
     "execution_count": 2,
     "metadata": {},
     "output_type": "execute_result"
    }
   ],
   "source": [
    "# Image Catelogue - AffectNet Internet image\n",
    "affectnet_auto_data['expression'].value_counts(sort=False)\n",
    "\n",
    "# 0: Neutral, 1: Happiness, 2: Sadness, 3: Surprise, 4: Fear, 5: Disgust, 6: Anger,7: Contempt, 8: None, 9: Uncertain, 10: No-Face"
   ]
  },
  {
   "cell_type": "code",
   "execution_count": 3,
   "metadata": {},
   "outputs": [
    {
     "data": {
      "text/plain": [
       "0      74874\n",
       "1     134415\n",
       "2      25459\n",
       "3      14090\n",
       "4       6378\n",
       "5       3803\n",
       "6      24882\n",
       "7       3750\n",
       "8      33088\n",
       "9      11645\n",
       "10     82415\n",
       "Name: expression, dtype: int64"
      ]
     },
     "execution_count": 3,
     "metadata": {},
     "output_type": "execute_result"
    }
   ],
   "source": [
    "# Image Catelogue - AffectNet Manual Annotated image\n",
    "affectnet_manual_data['expression'].value_counts(sort=False)"
   ]
  },
  {
   "cell_type": "code",
   "execution_count": null,
   "metadata": {},
   "outputs": [],
   "source": [
    "import os\n",
    "import shutil\n",
    "\n",
    "# Due to limitation on disk size and network speed.  Only 1/10 images were downlaoded.\n",
    "# From the image catelogue, we filter out the downloaded disgust images for our data supplement\n",
    "affectnet_auto_data_10 = affectnet_auto_data.loc[affectnet_auto_data[\"subDirectory_filePath\"].astype(str).str[:2]=='10']\n",
    "affectnet_auto_data_10_disgust = affectnet_auto_data_10.loc[affectnet_auto_data[\"expression\"]==5]\n",
    "\n",
    "new =  affectnet_auto_data_10_disgust[\"subDirectory_filePath\"].str.split(\"/\", n = 1, expand = True) \n",
    "file_path = affectnet_auto_data_10_disgust[\"subDirectory_filePath\"].values.tolist()\n",
    "file_name = new[1].values.tolist()\n",
    "affectnet_path_3 = 'C:/Users/Lun/Documents/Study/MSBD/CSIT6000G - Machine Learning/9) Project/AffectNet/Automatically_Annotated_Images/'\n",
    "affectnet_path_4 = 'C:/Users/Lun/Documents/Study/MSBD/CSIT6000G - Machine Learning/9) Project/AffectNet/Manually_Annotated/disgust/'\n",
    "\n",
    "# Copy all the disgust images into a separate folder for futher data pre-processing\n",
    "for i in range(len(file_name)):\n",
    "    full_path = affectnet_path_3+file_name[i]\n",
    "\n",
    "    exists = os.path.isfile(full_path)\n",
    "    if exists:\n",
    "        shutil.copyfile(full_path, affectnet_path_4+file_name[i]) \n",
    "        print(affectnet_path_4+file_name[i])\n"
   ]
  },
  {
   "cell_type": "code",
   "execution_count": null,
   "metadata": {},
   "outputs": [],
   "source": [
    "from keras.preprocessing import image\n",
    "import matplotlib.pyplot as plt\n",
    "import numpy as np\n",
    "import os\n",
    "import csv  \n",
    "\n",
    "directory = 'C:/Users/Lun/Documents/Study/MSBD/CSIT6000G - Machine Learning/9) Project/AffectNet/Manually_Annotated/disgust/'\n",
    "\n",
    "# For each disgust image\n",
    "for filename in os.listdir(directory):\n",
    "\n",
    "    img = image.load_img(directory+filename, grayscale=True, target_size=(48, 48))\n",
    "\n",
    "    # load the image into 2D array\n",
    "    x = image.img_to_array(img)\n",
    "    x = np.expand_dims(x, axis = 0)\n",
    "    \n",
    "    # Resize the image into 48 x 48\n",
    "    x = np.array(x, 'float32')\n",
    "    x = x.reshape([48, 48])\n",
    "    \n",
    "    # Data augmentation - Flip the image\n",
    "    flip_1 = np.fliplr(x)\n",
    "    \n",
    "    # Serialize the image into 1D array\n",
    "    x = x.reshape([1,2304])\n",
    "\n",
    "    # Transform the array into a list\n",
    "    x_list = x[0].tolist()\n",
    "    x_str = \" \".join(str(i) for i in x_list)\n",
    "\n",
    "    # Append the additional disgust image into Kaggle FER2013 dataset for model training\n",
    "    fields=[1,x_str,'Training']\n",
    "    with open(r'C:/Users/Lun/PycharmProjects/Emotion_Detection/data/fer2013_augmented.csv', 'a') as f:\n",
    "        writer = csv.writer(f)\n",
    "        writer.writerow(fields)"
   ]
  }
 ],
 "metadata": {
  "kernelspec": {
   "display_name": "Python 3",
   "language": "python",
   "name": "python3"
  },
  "language_info": {
   "codemirror_mode": {
    "name": "ipython",
    "version": 3
   },
   "file_extension": ".py",
   "mimetype": "text/x-python",
   "name": "python",
   "nbconvert_exporter": "python",
   "pygments_lexer": "ipython3",
   "version": "3.6.7"
  }
 },
 "nbformat": 4,
 "nbformat_minor": 2
}
